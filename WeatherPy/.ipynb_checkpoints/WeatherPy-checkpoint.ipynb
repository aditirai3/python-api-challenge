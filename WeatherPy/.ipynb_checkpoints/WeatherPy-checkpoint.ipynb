{
 "cells": [
  {
   "cell_type": "markdown",
   "metadata": {},
   "source": [
    "# WeatherPy\n",
    "----\n",
    "\n",
    "#### Note\n",
    "* Instructions have been included for each segment. You do not have to follow them exactly, but they are included to help you think through the steps."
   ]
  },
  {
   "cell_type": "code",
   "execution_count": 1,
   "metadata": {
    "scrolled": true
   },
   "outputs": [],
   "source": [
    "# Dependencies and Setup\n",
    "import matplotlib.pyplot as plt\n",
    "import pandas as pd\n",
    "import numpy as np\n",
    "import requests\n",
    "import time\n",
    "from scipy.stats import linregress\n",
    "import datetime as dt\n",
    "\n",
    "# Import API key\n",
    "from api_keys import weather_api_key\n",
    "\n",
    "# Incorporated citipy to determine city based on latitude and longitude\n",
    "from citipy import citipy\n",
    "\n",
    "# Output File (CSV)\n",
    "output_data_file = \"output_data/cities.csv\"\n",
    "\n",
    "# Range of latitudes and longitudes\n",
    "lat_range = (-90, 90)\n",
    "lng_range = (-180, 180)"
   ]
  },
  {
   "cell_type": "markdown",
   "metadata": {},
   "source": [
    "## Generate Cities List"
   ]
  },
  {
   "cell_type": "code",
   "execution_count": 10,
   "metadata": {},
   "outputs": [
    {
     "data": {
      "text/plain": [
       "677"
      ]
     },
     "execution_count": 10,
     "metadata": {},
     "output_type": "execute_result"
    }
   ],
   "source": [
    "# List for holding lat_lngs and cities\n",
    "lat_lngs = []\n",
    "cities = []\n",
    "\n",
    "# Create a set of random lat and lng combinations\n",
    "lats = np.random.uniform(lat_range[0], lat_range[1], size=1500)\n",
    "lngs = np.random.uniform(lng_range[0], lng_range[1], size=1500)\n",
    "lat_lngs = zip(lats, lngs)\n",
    "\n",
    "# Identify nearest city for each lat, lng combination\n",
    "for lat_lng in lat_lngs:\n",
    "    city = citipy.nearest_city(lat_lng[0], lat_lng[1]).city_name\n",
    "    \n",
    "    # If the city is unique, then add it to a our cities list\n",
    "    if city not in cities:\n",
    "        cities.append(city)\n",
    "\n",
    "# Print the city count to confirm sufficient count\n",
    "len(cities)"
   ]
  },
  {
   "cell_type": "code",
   "execution_count": 12,
   "metadata": {},
   "outputs": [
    {
     "data": {
      "text/html": [
       "<div>\n",
       "<style scoped>\n",
       "    .dataframe tbody tr th:only-of-type {\n",
       "        vertical-align: middle;\n",
       "    }\n",
       "\n",
       "    .dataframe tbody tr th {\n",
       "        vertical-align: top;\n",
       "    }\n",
       "\n",
       "    .dataframe thead th {\n",
       "        text-align: right;\n",
       "    }\n",
       "</style>\n",
       "<table border=\"1\" class=\"dataframe\">\n",
       "  <thead>\n",
       "    <tr style=\"text-align: right;\">\n",
       "      <th></th>\n",
       "      <th>0</th>\n",
       "    </tr>\n",
       "  </thead>\n",
       "  <tbody>\n",
       "    <tr>\n",
       "      <th>0</th>\n",
       "      <td>kapaa</td>\n",
       "    </tr>\n",
       "    <tr>\n",
       "      <th>1</th>\n",
       "      <td>kenai</td>\n",
       "    </tr>\n",
       "    <tr>\n",
       "      <th>2</th>\n",
       "      <td>mantua</td>\n",
       "    </tr>\n",
       "    <tr>\n",
       "      <th>3</th>\n",
       "      <td>petropavlovsk-kamchatskiy</td>\n",
       "    </tr>\n",
       "    <tr>\n",
       "      <th>4</th>\n",
       "      <td>araouane</td>\n",
       "    </tr>\n",
       "    <tr>\n",
       "      <th>...</th>\n",
       "      <td>...</td>\n",
       "    </tr>\n",
       "    <tr>\n",
       "      <th>672</th>\n",
       "      <td>lillers</td>\n",
       "    </tr>\n",
       "    <tr>\n",
       "      <th>673</th>\n",
       "      <td>stoyba</td>\n",
       "    </tr>\n",
       "    <tr>\n",
       "      <th>674</th>\n",
       "      <td>north ogden</td>\n",
       "    </tr>\n",
       "    <tr>\n",
       "      <th>675</th>\n",
       "      <td>yala</td>\n",
       "    </tr>\n",
       "    <tr>\n",
       "      <th>676</th>\n",
       "      <td>kupino</td>\n",
       "    </tr>\n",
       "  </tbody>\n",
       "</table>\n",
       "<p>677 rows × 1 columns</p>\n",
       "</div>"
      ],
      "text/plain": [
       "                             0\n",
       "0                        kapaa\n",
       "1                        kenai\n",
       "2                       mantua\n",
       "3    petropavlovsk-kamchatskiy\n",
       "4                     araouane\n",
       "..                         ...\n",
       "672                    lillers\n",
       "673                     stoyba\n",
       "674                north ogden\n",
       "675                       yala\n",
       "676                     kupino\n",
       "\n",
       "[677 rows x 1 columns]"
      ]
     },
     "execution_count": 12,
     "metadata": {},
     "output_type": "execute_result"
    }
   ],
   "source": [
    "#created this for verification of names\n",
    "# city_df = pd.DataFrame(cities)\n",
    "# city_df"
   ]
  },
  {
   "cell_type": "markdown",
   "metadata": {},
   "source": [
    "### Perform API Calls\n",
    "* Perform a weather check on each city using a series of successive API calls.\n",
    "* Include a print log of each city as it'sbeing processed (with the city number and city name).\n"
   ]
  },
  {
   "cell_type": "code",
   "execution_count": 13,
   "metadata": {},
   "outputs": [
    {
     "name": "stdout",
     "output_type": "stream",
     "text": [
      "Beginning Data Retrieval\n",
      "-----------------------------\n",
      "Processing Record 1 | kapaa\n",
      "Processing Record 2 | kenai\n",
      "Processing Record 3 | mantua\n",
      "Processing Record 4 | petropavlovsk-kamchatskiy\n",
      "Processing Record 5 | araouane\n",
      "Processing Record 6 | port augusta\n",
      "Processing Record 7 | biak\n",
      "Processing Record 8 | bluff\n",
      "Processing Record 9 | bengkulu\n",
      "Processing Record 10 | madaoua\n",
      "Processing Record 11 | severo-kurilsk\n",
      "Processing Record 12 | samarai\n",
      "Processing Record 13 | upata\n",
      "Processing Record 14 | batemans bay\n",
      "Processing Record 15 | mataura\n",
      "Processing Record 16 | cape town\n",
      "Processing Record 17 | dawlatabad\n",
      "Processing Record 18 | port alfred\n",
      "Processing Record 19 | jurado\n",
      "Processing Record 20 | bairiki\n",
      "Processing Record 21 | butaritari\n",
      "Processing Record 22 | rikitea\n",
      "Processing Record 23 | bredasdorp\n",
      "Processing Record 24 | faanui\n",
      "Processing Record 25 | gamba\n",
      "Processing Record 26 | coihaique\n",
      "Processing Record 27 | namibe\n",
      "Processing Record 28 | codrington\n",
      "Processing Record 29 | mount gambier\n",
      "Processing Record 30 | upernavik\n",
      "Processing Record 31 | mahebourg\n",
      "Processing Record 32 | rio grande\n",
      "Processing Record 33 | ostrovnoy\n",
      "Processing Record 34 | meadow lake\n",
      "Processing Record 35 | saint-augustin\n",
      "Processing Record 36 | new norfolk\n",
      "Processing Record 37 | qaqortoq\n",
      "Processing Record 38 | qaanaaq\n",
      "Processing Record 39 | tiksi\n",
      "Processing Record 40 | ereymentau\n",
      "Processing Record 41 | iqaluit\n",
      "Processing Record 42 | nikolskoye\n",
      "Processing Record 43 | colares\n",
      "Processing Record 44 | san patricio\n",
      "Processing Record 45 | teya\n",
      "Processing Record 46 | hobart\n",
      "Processing Record 47 | norman wells\n",
      "Processing Record 48 | bambous virieux\n",
      "Processing Record 49 | popova\n",
      "Processing Record 50 | naze\n",
      "Processing Record 51 | hobyo\n",
      "Processing Record 52 | necochea\n",
      "Processing Record 53 | ancud\n",
      "City not found. Skipping...\n",
      "Processing Record 54 | tasiilaq\n",
      "Processing Record 55 | castro\n",
      "Processing Record 56 | port hedland\n",
      "Processing Record 57 | rawson\n",
      "Processing Record 58 | port hardy\n",
      "City not found. Skipping...\n",
      "Processing Record 59 | lebu\n",
      "Processing Record 60 | provideniya\n",
      "Processing Record 61 | brunsbuttel\n",
      "Processing Record 62 | trairi\n",
      "Processing Record 63 | yellowknife\n",
      "Processing Record 64 | sweetwater\n",
      "Processing Record 65 | dunda\n",
      "Processing Record 66 | vaini\n",
      "Processing Record 67 | busselton\n",
      "Processing Record 68 | atuona\n",
      "Processing Record 69 | albany\n",
      "Processing Record 70 | rio claro\n",
      "City not found. Skipping...\n",
      "Processing Record 71 | chuy\n",
      "Processing Record 72 | aksarka\n",
      "Processing Record 73 | decatur\n",
      "City not found. Skipping...\n",
      "Processing Record 74 | kosikha\n",
      "Processing Record 75 | hilo\n",
      "Processing Record 76 | katsuura\n",
      "Processing Record 77 | port lincoln\n",
      "Processing Record 78 | arraial do cabo\n",
      "City not found. Skipping...\n",
      "Processing Record 79 | ushuaia\n",
      "City not found. Skipping...\n",
      "Processing Record 80 | bud\n",
      "Processing Record 81 | hamilton\n",
      "Processing Record 82 | la palma\n",
      "Processing Record 83 | ixtapa\n",
      "Processing Record 84 | jamestown\n",
      "Processing Record 85 | mehamn\n",
      "Processing Record 86 | la ronge\n",
      "Processing Record 87 | veraval\n",
      "City not found. Skipping...\n",
      "Processing Record 88 | nanae\n",
      "Processing Record 89 | punta arenas\n",
      "Processing Record 90 | hermanus\n",
      "Processing Record 91 | pyay\n",
      "Processing Record 92 | saint-philippe\n",
      "Processing Record 93 | tuktoyaktuk\n",
      "Processing Record 94 | batsfjord\n",
      "Processing Record 95 | sioux lookout\n",
      "Processing Record 96 | svencionys\n",
      "Processing Record 97 | ribeira grande\n",
      "City not found. Skipping...\n",
      "Processing Record 98 | ust-kuyga\n",
      "Processing Record 99 | illapel\n",
      "Processing Record 100 | trinidad\n",
      "Processing Record 101 | victoria\n",
      "Processing Record 102 | guaruja\n",
      "Processing Record 103 | carnarvon\n",
      "Processing Record 104 | pisco\n",
      "Processing Record 105 | east london\n",
      "City not found. Skipping...\n",
      "Processing Record 106 | ipojuca\n",
      "Processing Record 107 | farmington\n",
      "Processing Record 108 | kichera\n",
      "Processing Record 109 | luderitz\n",
      "Processing Record 110 | kensington\n",
      "Processing Record 111 | bathsheba\n",
      "Processing Record 112 | ormara\n",
      "Processing Record 113 | kruisfontein\n",
      "Processing Record 114 | lazaro cardenas\n",
      "Processing Record 115 | nouadhibou\n",
      "Processing Record 116 | vanimo\n",
      "Processing Record 117 | mazatlan\n",
      "Processing Record 118 | saint-joseph\n",
      "City not found. Skipping...\n",
      "Processing Record 119 | alofi\n",
      "City not found. Skipping...\n",
      "Processing Record 120 | yerbogachen\n",
      "City not found. Skipping...\n",
      "Processing Record 121 | kapit\n",
      "Processing Record 122 | sisimiut\n",
      "Processing Record 123 | hovd\n",
      "Processing Record 124 | leticia\n",
      "Processing Record 125 | winslow\n",
      "Processing Record 126 | lerwick\n",
      "Processing Record 127 | wewak\n",
      "Processing Record 128 | kaabong\n",
      "Processing Record 129 | comodoro rivadavia\n",
      "Processing Record 130 | avarua\n",
      "City not found. Skipping...\n",
      "Processing Record 131 | honggang\n",
      "Processing Record 132 | khatanga\n",
      "Processing Record 133 | kodiak\n",
      "Processing Record 134 | port blair\n",
      "Processing Record 135 | sur\n",
      "Processing Record 136 | esperance\n",
      "Processing Record 137 | tiznit\n",
      "City not found. Skipping...\n",
      "Processing Record 138 | dicabisagan\n",
      "Processing Record 139 | salinopolis\n",
      "City not found. Skipping...\n",
      "Processing Record 140 | san cristobal\n",
      "City not found. Skipping...\n",
      "Processing Record 141 | dhidhdhoo\n",
      "Processing Record 142 | si sa ket\n",
      "Processing Record 143 | moravita\n",
      "Processing Record 144 | owando\n",
      "Processing Record 145 | auki\n",
      "Processing Record 146 | emerald\n",
      "City not found. Skipping...\n",
      "City not found. Skipping...\n",
      "Processing Record 147 | kaitangata\n",
      "Processing Record 148 | kamaishi\n",
      "Processing Record 149 | port elizabeth\n",
      "Processing Record 150 | georgetown\n",
      "Processing Record 151 | aksu\n",
      "Processing Record 152 | nador\n",
      "Processing Record 153 | eganville\n",
      "Processing Record 154 | svetlogorsk\n",
      "Processing Record 155 | maxixe\n",
      "City not found. Skipping...\n",
      "Processing Record 156 | prestea\n",
      "Processing Record 157 | joshimath\n",
      "Processing Record 158 | puerto ayora\n",
      "Processing Record 159 | ziarat\n",
      "Processing Record 160 | tuatapere\n",
      "Processing Record 161 | santa isabel do rio negro\n",
      "Processing Record 162 | pemangkat\n",
      "Processing Record 163 | barrow\n",
      "Processing Record 164 | hami\n",
      "Processing Record 165 | ponta do sol\n",
      "Processing Record 166 | kushima\n",
      "Processing Record 167 | coromandel\n",
      "Processing Record 168 | egvekinot\n",
      "Processing Record 169 | kenora\n",
      "Processing Record 170 | riyadh\n",
      "Processing Record 171 | broken hill\n",
      "Processing Record 172 | dera ismail khan\n",
      "Processing Record 173 | tahoua\n",
      "Processing Record 174 | longyearbyen\n",
      "Processing Record 175 | xihua\n",
      "Processing Record 176 | vanavara\n",
      "Processing Record 177 | dikson\n",
      "City not found. Skipping...\n",
      "Processing Record 178 | san carlos de bariloche\n",
      "Processing Record 179 | lakota\n",
      "Processing Record 180 | pevek\n",
      "Processing Record 181 | listvyagi\n",
      "Processing Record 182 | rorvik\n",
      "Processing Record 183 | kirakira\n",
      "Processing Record 184 | nueva gorgona\n",
      "Processing Record 185 | ilulissat\n",
      "Processing Record 186 | galesburg\n",
      "Processing Record 187 | nkhotakota\n",
      "Processing Record 188 | lata\n",
      "City not found. Skipping...\n",
      "City not found. Skipping...\n",
      "Processing Record 189 | kuzino\n",
      "Processing Record 190 | lac-megantic\n",
      "Processing Record 191 | margate\n",
      "Processing Record 192 | havelock\n",
      "Processing Record 193 | amuntai\n",
      "Processing Record 194 | uetersen\n",
      "Processing Record 195 | olga\n",
      "Processing Record 196 | havre-saint-pierre\n",
      "Processing Record 197 | dom pedro\n",
      "Processing Record 198 | turukhansk\n",
      "Processing Record 199 | itoman\n",
      "Processing Record 200 | sibolga\n",
      "Processing Record 201 | nara\n",
      "Processing Record 202 | huarmey\n",
      "Processing Record 203 | bowen\n",
      "Processing Record 204 | faya\n",
      "Processing Record 205 | nabire\n",
      "Processing Record 206 | buraydah\n",
      "Processing Record 207 | sitka\n",
      "Processing Record 208 | sebastian\n",
      "Processing Record 209 | kuytun\n",
      "Processing Record 210 | russell\n",
      "Processing Record 211 | oroville\n",
      "Processing Record 212 | cap-aux-meules\n",
      "Processing Record 213 | matagami\n",
      "Processing Record 214 | rio gallegos\n",
      "Processing Record 215 | vangaindrano\n",
      "Processing Record 216 | chany\n",
      "City not found. Skipping...\n",
      "Processing Record 217 | chimbote\n",
      "Processing Record 218 | nanortalik\n",
      "Processing Record 219 | leningradskiy\n",
      "City not found. Skipping...\n",
      "City not found. Skipping...\n",
      "Processing Record 220 | sal rei\n",
      "Processing Record 221 | roald\n",
      "Processing Record 222 | kaeo\n",
      "Processing Record 223 | ko samui\n",
      "Processing Record 224 | kudahuvadhoo\n",
      "Processing Record 225 | odweyne\n",
      "Processing Record 226 | tiarei\n"
     ]
    },
    {
     "name": "stdout",
     "output_type": "stream",
     "text": [
      "Processing Record 227 | merritt island\n",
      "Processing Record 228 | raudeberg\n",
      "Processing Record 229 | sao filipe\n",
      "Processing Record 230 | alexandria\n",
      "Processing Record 231 | mabaruma\n",
      "Processing Record 232 | williams lake\n",
      "City not found. Skipping...\n",
      "Processing Record 233 | salalah\n",
      "Processing Record 234 | truro\n",
      "Processing Record 235 | geraldton\n",
      "Processing Record 236 | westport\n",
      "Processing Record 237 | los llanos de aridane\n",
      "Processing Record 238 | mbandaka\n",
      "Processing Record 239 | kushmurun\n",
      "Processing Record 240 | hohhot\n",
      "Processing Record 241 | beian\n",
      "Processing Record 242 | bosaso\n",
      "Processing Record 243 | alegrete\n",
      "Processing Record 244 | saskylakh\n",
      "Processing Record 245 | beringovskiy\n",
      "Processing Record 246 | nalut\n",
      "Processing Record 247 | boyolangu\n",
      "Processing Record 248 | lompoc\n",
      "Processing Record 249 | mahon\n",
      "Processing Record 250 | tadine\n",
      "Processing Record 251 | maniitsoq\n",
      "Processing Record 252 | chernyshevskiy\n",
      "Processing Record 253 | khandyga\n",
      "Processing Record 254 | tautira\n",
      "Processing Record 255 | ponta delgada\n",
      "Processing Record 256 | namatanai\n",
      "Processing Record 257 | chapais\n",
      "Processing Record 258 | dombarovskiy\n",
      "Processing Record 259 | havoysund\n",
      "Processing Record 260 | muyuka\n",
      "Processing Record 261 | yokadouma\n",
      "Processing Record 262 | vila velha\n",
      "Processing Record 263 | garowe\n",
      "City not found. Skipping...\n",
      "Processing Record 264 | klaksvik\n",
      "Processing Record 265 | collie\n",
      "Processing Record 266 | ukiah\n",
      "City not found. Skipping...\n",
      "Processing Record 267 | atbasar\n",
      "Processing Record 268 | thompson\n",
      "Processing Record 269 | plettenberg bay\n",
      "Processing Record 270 | komsomolskiy\n",
      "Processing Record 271 | makkaveyevo\n",
      "Processing Record 272 | flinders\n",
      "Processing Record 273 | emba\n",
      "City not found. Skipping...\n",
      "City not found. Skipping...\n",
      "Processing Record 274 | yaring\n",
      "Processing Record 275 | bagdarin\n",
      "City not found. Skipping...\n",
      "Processing Record 276 | vostok\n",
      "City not found. Skipping...\n",
      "Processing Record 277 | launceston\n",
      "Processing Record 278 | byron bay\n",
      "Processing Record 279 | kalas\n",
      "Processing Record 280 | nagari\n",
      "Processing Record 281 | joensuu\n",
      "Processing Record 282 | leiyang\n",
      "Processing Record 283 | kutum\n",
      "Processing Record 284 | tessalit\n",
      "Processing Record 285 | saint-prosper\n",
      "Processing Record 286 | port macquarie\n",
      "Processing Record 287 | mar del plata\n",
      "City not found. Skipping...\n",
      "Processing Record 288 | wonthaggi\n",
      "Processing Record 289 | sola\n",
      "Processing Record 290 | airai\n",
      "Processing Record 291 | los zacatones\n",
      "Processing Record 292 | sorland\n",
      "Processing Record 293 | henties bay\n",
      "Processing Record 294 | rongcheng\n",
      "Processing Record 295 | coquimbo\n",
      "Processing Record 296 | yulara\n",
      "Processing Record 297 | dongfeng\n",
      "Processing Record 298 | urucara\n",
      "City not found. Skipping...\n",
      "Processing Record 299 | ayagoz\n",
      "Processing Record 300 | honiara\n",
      "Processing Record 301 | rizhao\n",
      "Processing Record 302 | allanridge\n",
      "Processing Record 303 | nangong\n",
      "Processing Record 304 | alyangula\n",
      "Processing Record 305 | ust-nera\n",
      "Processing Record 306 | calama\n",
      "Processing Record 307 | boralday\n",
      "Processing Record 308 | beyneu\n",
      "Processing Record 309 | praya\n",
      "Processing Record 310 | yamasaki\n",
      "Processing Record 311 | saint-pierre\n",
      "Processing Record 312 | jalu\n",
      "Processing Record 313 | vero beach\n",
      "Processing Record 314 | paamiut\n",
      "Processing Record 315 | moron\n",
      "Processing Record 316 | karonga\n",
      "City not found. Skipping...\n",
      "Processing Record 317 | spiez\n",
      "Processing Record 318 | makubetsu\n",
      "Processing Record 319 | hambantota\n",
      "Processing Record 320 | vardo\n",
      "Processing Record 321 | oneonta\n",
      "Processing Record 322 | leninsk\n",
      "City not found. Skipping...\n",
      "City not found. Skipping...\n",
      "City not found. Skipping...\n",
      "Processing Record 323 | tucurui\n",
      "Processing Record 324 | rehoboth\n",
      "Processing Record 325 | yaguacire\n",
      "Processing Record 326 | bawku\n",
      "Processing Record 327 | atambua\n",
      "Processing Record 328 | hasaki\n",
      "Processing Record 329 | shinpokh\n",
      "Processing Record 330 | bom conselho\n",
      "Processing Record 331 | el alto\n",
      "Processing Record 332 | champerico\n",
      "Processing Record 333 | nioro\n",
      "Processing Record 334 | langarud\n",
      "Processing Record 335 | nacala\n",
      "City not found. Skipping...\n",
      "Processing Record 336 | dyurtyuli\n",
      "Processing Record 337 | mogzon\n",
      "Processing Record 338 | hofn\n",
      "Processing Record 339 | torbay\n",
      "Processing Record 340 | hurghada\n",
      "Processing Record 341 | balod\n",
      "Processing Record 342 | careiro da varzea\n",
      "Processing Record 343 | bubaque\n",
      "Processing Record 344 | kungurtug\n",
      "City not found. Skipping...\n",
      "Processing Record 345 | sept-iles\n",
      "Processing Record 346 | khash\n",
      "Processing Record 347 | grand gaube\n",
      "Processing Record 348 | sabya\n",
      "Processing Record 349 | shelburne\n",
      "Processing Record 350 | waingapu\n",
      "Processing Record 351 | souillac\n",
      "Processing Record 352 | tilichiki\n",
      "Processing Record 353 | nome\n",
      "Processing Record 354 | alta floresta\n",
      "Processing Record 355 | gairo\n",
      "Processing Record 356 | novobelokatay\n",
      "Processing Record 357 | breytovo\n",
      "Processing Record 358 | yushu\n",
      "Processing Record 359 | ulladulla\n",
      "Processing Record 360 | stornoway\n",
      "Processing Record 361 | sungaipenuh\n",
      "Processing Record 362 | saint george\n",
      "Processing Record 363 | galveston\n",
      "Processing Record 364 | mutis\n",
      "Processing Record 365 | talnakh\n",
      "Processing Record 366 | cabedelo\n",
      "City not found. Skipping...\n",
      "Processing Record 367 | garautha\n",
      "Processing Record 368 | bongouanou\n",
      "Processing Record 369 | mikhaylov\n",
      "Processing Record 370 | jerez\n",
      "Processing Record 371 | kigoma\n",
      "Processing Record 372 | winneba\n",
      "Processing Record 373 | canoa\n",
      "Processing Record 374 | chokurdakh\n",
      "Processing Record 375 | pestisani\n",
      "Processing Record 376 | lagoa\n",
      "Processing Record 377 | daru\n",
      "Processing Record 378 | hailar\n",
      "City not found. Skipping...\n",
      "Processing Record 379 | fairbanks\n",
      "Processing Record 380 | gunnedah\n",
      "Processing Record 381 | naryan-mar\n",
      "Processing Record 382 | yeppoon\n",
      "Processing Record 383 | luwuk\n",
      "Processing Record 384 | mandalgovi\n",
      "Processing Record 385 | pacific grove\n",
      "Processing Record 386 | whitehorse\n",
      "Processing Record 387 | los algarrobos\n",
      "Processing Record 388 | harindanga\n",
      "Processing Record 389 | bay roberts\n",
      "Processing Record 390 | makakilo city\n",
      "City not found. Skipping...\n",
      "Processing Record 391 | aklavik\n",
      "Processing Record 392 | yuanping\n",
      "Processing Record 393 | iquitos\n",
      "Processing Record 394 | thohoyandou\n",
      "Processing Record 395 | diffa\n",
      "Processing Record 396 | termoli\n",
      "Processing Record 397 | bereda\n",
      "Processing Record 398 | mitu\n",
      "Processing Record 399 | rincon\n",
      "Processing Record 400 | shingu\n",
      "Processing Record 401 | prince rupert\n",
      "Processing Record 402 | luganville\n",
      "Processing Record 403 | antalaha\n",
      "Processing Record 404 | port shepstone\n",
      "Processing Record 405 | bethel\n",
      "Processing Record 406 | shimoda\n",
      "Processing Record 407 | quelimane\n",
      "Processing Record 408 | humaita\n",
      "Processing Record 409 | usinsk\n",
      "Processing Record 410 | ngunguru\n",
      "Processing Record 411 | kahului\n",
      "Processing Record 412 | norden\n",
      "Processing Record 413 | dwarka\n",
      "Processing Record 414 | cherskiy\n",
      "Processing Record 415 | nhulunbuy\n",
      "Processing Record 416 | warrnambool\n",
      "Processing Record 417 | zhigansk\n",
      "Processing Record 418 | alenquer\n",
      "Processing Record 419 | creel\n",
      "Processing Record 420 | lasa\n",
      "Processing Record 421 | kasempa\n",
      "Processing Record 422 | thiruvananthapuram\n",
      "Processing Record 423 | salinas\n",
      "City not found. Skipping...\n",
      "City not found. Skipping...\n",
      "Processing Record 424 | santiago\n",
      "Processing Record 425 | trat\n",
      "Processing Record 426 | ankang\n",
      "City not found. Skipping...\n",
      "City not found. Skipping...\n",
      "City not found. Skipping...\n",
      "Processing Record 427 | lodja\n",
      "Processing Record 428 | guerrero negro\n",
      "Processing Record 429 | dingle\n",
      "Processing Record 430 | talcahuano\n",
      "Processing Record 431 | santa rosa\n",
      "Processing Record 432 | hualmay\n",
      "Processing Record 433 | sarai sidhu\n",
      "Processing Record 434 | rancho palos verdes\n",
      "Processing Record 435 | ballina\n",
      "Processing Record 436 | padang\n",
      "Processing Record 437 | gaspe\n",
      "Processing Record 438 | agadez\n",
      "City not found. Skipping...\n",
      "Processing Record 439 | purificacion\n",
      "Processing Record 440 | port-gentil\n",
      "City not found. Skipping...\n",
      "Processing Record 441 | lagos\n",
      "Processing Record 442 | camacha\n",
      "Processing Record 443 | qasigiannguit\n",
      "Processing Record 444 | tamandare\n",
      "Processing Record 445 | scottsbluff\n",
      "Processing Record 446 | montorio al vomano\n",
      "Processing Record 447 | meulaboh\n",
      "Processing Record 448 | taylor\n",
      "Processing Record 449 | walvis bay\n",
      "Processing Record 450 | kristiansund\n",
      "Processing Record 451 | vao\n",
      "Processing Record 452 | half moon bay\n"
     ]
    },
    {
     "name": "stdout",
     "output_type": "stream",
     "text": [
      "Processing Record 453 | dunedin\n",
      "Processing Record 454 | umm kaddadah\n",
      "Processing Record 455 | cocobeach\n",
      "Processing Record 456 | bull savanna\n",
      "Processing Record 457 | filingue\n",
      "Processing Record 458 | viedma\n",
      "Processing Record 459 | biryusinsk\n",
      "Processing Record 460 | venice\n",
      "Processing Record 461 | chute-aux-outardes\n",
      "Processing Record 462 | borovskoy\n",
      "Processing Record 463 | sherman\n",
      "Processing Record 464 | colquechaca\n",
      "Processing Record 465 | birao\n",
      "Processing Record 466 | kailua\n",
      "Processing Record 467 | corning\n",
      "Processing Record 468 | caravelas\n",
      "Processing Record 469 | acajutla\n",
      "Processing Record 470 | deputatskiy\n",
      "Processing Record 471 | victoria point\n",
      "Processing Record 472 | meiganga\n",
      "Processing Record 473 | pemba\n",
      "Processing Record 474 | urengoy\n",
      "Processing Record 475 | yakeshi\n",
      "Processing Record 476 | kilindoni\n",
      "Processing Record 477 | mpika\n",
      "Processing Record 478 | jasper\n",
      "Processing Record 479 | sidi ali\n",
      "Processing Record 480 | lavrentiya\n",
      "Processing Record 481 | banda aceh\n",
      "Processing Record 482 | saint-georges\n",
      "Processing Record 483 | hay river\n",
      "Processing Record 484 | cidreira\n",
      "Processing Record 485 | san francisco\n",
      "Processing Record 486 | salym\n",
      "Processing Record 487 | kamenka\n",
      "Processing Record 488 | ken caryl\n",
      "Processing Record 489 | batticaloa\n",
      "Processing Record 490 | arua\n",
      "Processing Record 491 | nampula\n",
      "Processing Record 492 | mount darwin\n",
      "Processing Record 493 | abnub\n",
      "Processing Record 494 | bhandara\n",
      "City not found. Skipping...\n",
      "Processing Record 495 | hithadhoo\n",
      "Processing Record 496 | aswan\n",
      "Processing Record 497 | husavik\n",
      "Processing Record 498 | ascension\n",
      "Processing Record 499 | laguna\n",
      "City not found. Skipping...\n",
      "Processing Record 500 | skelleftea\n",
      "Processing Record 501 | cockburn town\n",
      "Processing Record 502 | evensk\n",
      "Processing Record 503 | lichinga\n",
      "Processing Record 504 | lapinig\n",
      "City not found. Skipping...\n",
      "Processing Record 505 | surskoye\n",
      "Processing Record 506 | bouillante\n",
      "Processing Record 507 | bulalacao\n",
      "Processing Record 508 | kaniama\n",
      "Processing Record 509 | tainan\n",
      "Processing Record 510 | ewa beach\n",
      "Processing Record 511 | linxia\n",
      "City not found. Skipping...\n",
      "City not found. Skipping...\n",
      "Processing Record 512 | aden\n",
      "Processing Record 513 | umm lajj\n",
      "Processing Record 514 | jaragua do sul\n",
      "Processing Record 515 | soure\n",
      "Processing Record 516 | whitecourt\n",
      "Processing Record 517 | pangnirtung\n",
      "Processing Record 518 | vestmannaeyjar\n",
      "Processing Record 519 | datong\n",
      "Processing Record 520 | lakes entrance\n",
      "Processing Record 521 | port moresby\n",
      "Processing Record 522 | lodwar\n",
      "Processing Record 523 | de land\n",
      "Processing Record 524 | dengzhou\n",
      "Processing Record 525 | tailai\n",
      "Processing Record 526 | verkhnevilyuysk\n",
      "Processing Record 527 | esmeraldas\n",
      "Processing Record 528 | worland\n",
      "Processing Record 529 | sierra vista\n",
      "Processing Record 530 | helena\n",
      "City not found. Skipping...\n",
      "Processing Record 531 | bulungu\n",
      "Processing Record 532 | bonavista\n",
      "Processing Record 533 | ahipara\n",
      "Processing Record 534 | college\n",
      "Processing Record 535 | cabo san lucas\n",
      "Processing Record 536 | breznik\n",
      "Processing Record 537 | lensk\n",
      "Processing Record 538 | olafsvik\n",
      "City not found. Skipping...\n",
      "City not found. Skipping...\n",
      "Processing Record 539 | mari-turek\n",
      "Processing Record 540 | porto santo\n",
      "Processing Record 541 | smithers\n",
      "Processing Record 542 | palestina\n",
      "Processing Record 543 | winchester\n",
      "Processing Record 544 | xuddur\n",
      "Processing Record 545 | luau\n",
      "Processing Record 546 | bozhou\n",
      "Processing Record 547 | jadu\n",
      "Processing Record 548 | pimentel\n",
      "Processing Record 549 | corinth\n",
      "Processing Record 550 | bintulu\n",
      "Processing Record 551 | atar\n",
      "Processing Record 552 | itarema\n",
      "Processing Record 553 | mongoumba\n",
      "Processing Record 554 | derzhavinsk\n",
      "Processing Record 555 | elektrogorsk\n",
      "Processing Record 556 | kutoarjo\n",
      "Processing Record 557 | glazov\n",
      "Processing Record 558 | genhe\n",
      "Processing Record 559 | rockport\n",
      "Processing Record 560 | shiyan\n",
      "Processing Record 561 | manzil salim\n",
      "Processing Record 562 | loralai\n",
      "City not found. Skipping...\n",
      "Processing Record 563 | gus-zheleznyy\n",
      "Processing Record 564 | gornopravdinsk\n",
      "Processing Record 565 | palana\n",
      "Processing Record 566 | zdvinsk\n",
      "Processing Record 567 | campbell river\n",
      "Processing Record 568 | keene\n",
      "Processing Record 569 | morondava\n",
      "Processing Record 570 | greeneville\n",
      "Processing Record 571 | saint anthony\n",
      "Processing Record 572 | jacareacanga\n",
      "Processing Record 573 | shahrud\n",
      "Processing Record 574 | yar-sale\n",
      "Processing Record 575 | mehran\n",
      "City not found. Skipping...\n",
      "Processing Record 576 | springdale\n",
      "Processing Record 577 | nangomba\n",
      "Processing Record 578 | muli\n",
      "Processing Record 579 | baiyin\n",
      "Processing Record 580 | bandar-e lengeh\n",
      "Processing Record 581 | kendal\n",
      "Processing Record 582 | manavgat\n",
      "Processing Record 583 | okahandja\n",
      "Processing Record 584 | chicaman\n",
      "Processing Record 585 | karratha\n",
      "Processing Record 586 | cap malheureux\n",
      "Processing Record 587 | sao jose da coroa grande\n",
      "Processing Record 588 | fortuna\n",
      "Processing Record 589 | la tuque\n",
      "Processing Record 590 | arlit\n",
      "Processing Record 591 | tezu\n",
      "Processing Record 592 | mackenzie\n",
      "Processing Record 593 | mangan\n",
      "Processing Record 594 | burnie\n",
      "Processing Record 595 | camacupa\n",
      "Processing Record 596 | contamana\n",
      "Processing Record 597 | labuhan\n",
      "Processing Record 598 | willmar\n",
      "Processing Record 599 | praia da vitoria\n",
      "Processing Record 600 | queimadas\n",
      "Processing Record 601 | grindavik\n",
      "Processing Record 602 | new ipswich\n",
      "Processing Record 603 | lorengau\n",
      "Processing Record 604 | maputo\n",
      "Processing Record 605 | shar\n",
      "Processing Record 606 | aquiraz\n",
      "Processing Record 607 | dzhebariki-khaya\n",
      "Processing Record 608 | lac du bonnet\n",
      "Processing Record 609 | bakchar\n",
      "Processing Record 610 | tabat\n",
      "Processing Record 611 | kavaratti\n",
      "Processing Record 612 | muroto\n",
      "Processing Record 613 | lillers\n",
      "City not found. Skipping...\n",
      "Processing Record 614 | north ogden\n",
      "Processing Record 615 | yala\n",
      "Processing Record 616 | kupino\n"
     ]
    }
   ],
   "source": [
    "#Build the query URL for openweathermap\n",
    "url = \"http://api.openweathermap.org/data/2.5/weather?\"\n",
    "units = \"metric\" #getting data in celsius\n",
    "query_url = f\"{url}appid={weather_api_key}&units={units}&q=\"\n",
    "#define empty lists to hold data and later convert to dataframe\n",
    "city_name = []\n",
    "lat = []\n",
    "lng = []\n",
    "max_temp = []\n",
    "humid = []\n",
    "cloud = []\n",
    "wind = []\n",
    "country = []\n",
    "date = []\n",
    "x = 1 #set counter for counting cities in print statement\n",
    "#loop through all cities and request data\n",
    "print(\"Beginning Data Retrieval\")\n",
    "print(\"-----------------------------\")\n",
    "for city in cities:\n",
    "    response = requests.get(query_url + city).json()\n",
    "    #print(response)\n",
    "    try:\n",
    "        city_name.append(response['name'])\n",
    "        lat.append(response['coord']['lat'])\n",
    "        lng.append(response['coord']['lon'])\n",
    "        max_temp.append(response['main']['temp_max'])\n",
    "        humid.append(response['main']['humidity'])\n",
    "        cloud.append(response['clouds']['all'])\n",
    "        wind.append(response['wind']['speed'])\n",
    "        country.append(response['sys']['country'])\n",
    "        date.append(response['dt'])\n",
    "\n",
    "        print(f\"Processing Record {x} | {city}\")\n",
    "        x = x + 1\n",
    "    \n",
    "    except KeyError:\n",
    "        print(\"City not found. Skipping...\")\n",
    "    time.sleep(1)  # Added a one second interval to stay within API query limits"
   ]
  },
  {
   "cell_type": "code",
   "execution_count": 14,
   "metadata": {},
   "outputs": [
    {
     "data": {
      "text/html": [
       "<div>\n",
       "<style scoped>\n",
       "    .dataframe tbody tr th:only-of-type {\n",
       "        vertical-align: middle;\n",
       "    }\n",
       "\n",
       "    .dataframe tbody tr th {\n",
       "        vertical-align: top;\n",
       "    }\n",
       "\n",
       "    .dataframe thead th {\n",
       "        text-align: right;\n",
       "    }\n",
       "</style>\n",
       "<table border=\"1\" class=\"dataframe\">\n",
       "  <thead>\n",
       "    <tr style=\"text-align: right;\">\n",
       "      <th></th>\n",
       "      <th>City</th>\n",
       "      <th>Lat</th>\n",
       "      <th>Lng</th>\n",
       "      <th>Max Temp</th>\n",
       "      <th>Humidity</th>\n",
       "      <th>Cloudiness</th>\n",
       "      <th>Wind Speed</th>\n",
       "      <th>Country</th>\n",
       "      <th>Date</th>\n",
       "    </tr>\n",
       "  </thead>\n",
       "  <tbody>\n",
       "    <tr>\n",
       "      <th>0</th>\n",
       "      <td>Kapaa</td>\n",
       "      <td>22.08</td>\n",
       "      <td>-159.32</td>\n",
       "      <td>19.44</td>\n",
       "      <td>59</td>\n",
       "      <td>6</td>\n",
       "      <td>4.58</td>\n",
       "      <td>US</td>\n",
       "      <td>1608222349</td>\n",
       "    </tr>\n",
       "    <tr>\n",
       "      <th>1</th>\n",
       "      <td>Kenai</td>\n",
       "      <td>60.55</td>\n",
       "      <td>-151.26</td>\n",
       "      <td>-5.56</td>\n",
       "      <td>85</td>\n",
       "      <td>1</td>\n",
       "      <td>5.10</td>\n",
       "      <td>US</td>\n",
       "      <td>1608222350</td>\n",
       "    </tr>\n",
       "    <tr>\n",
       "      <th>2</th>\n",
       "      <td>Province of Mantua</td>\n",
       "      <td>45.17</td>\n",
       "      <td>10.78</td>\n",
       "      <td>8.33</td>\n",
       "      <td>87</td>\n",
       "      <td>75</td>\n",
       "      <td>0.50</td>\n",
       "      <td>IT</td>\n",
       "      <td>1608222351</td>\n",
       "    </tr>\n",
       "    <tr>\n",
       "      <th>3</th>\n",
       "      <td>Petropavlovsk-Kamchatskiy</td>\n",
       "      <td>53.05</td>\n",
       "      <td>158.65</td>\n",
       "      <td>-11.00</td>\n",
       "      <td>78</td>\n",
       "      <td>90</td>\n",
       "      <td>4.00</td>\n",
       "      <td>RU</td>\n",
       "      <td>1608222352</td>\n",
       "    </tr>\n",
       "    <tr>\n",
       "      <th>4</th>\n",
       "      <td>Araouane</td>\n",
       "      <td>18.90</td>\n",
       "      <td>-3.53</td>\n",
       "      <td>30.46</td>\n",
       "      <td>13</td>\n",
       "      <td>65</td>\n",
       "      <td>2.53</td>\n",
       "      <td>ML</td>\n",
       "      <td>1608222354</td>\n",
       "    </tr>\n",
       "  </tbody>\n",
       "</table>\n",
       "</div>"
      ],
      "text/plain": [
       "                        City    Lat     Lng  Max Temp  Humidity  Cloudiness  \\\n",
       "0                      Kapaa  22.08 -159.32     19.44        59           6   \n",
       "1                      Kenai  60.55 -151.26     -5.56        85           1   \n",
       "2         Province of Mantua  45.17   10.78      8.33        87          75   \n",
       "3  Petropavlovsk-Kamchatskiy  53.05  158.65    -11.00        78          90   \n",
       "4                   Araouane  18.90   -3.53     30.46        13          65   \n",
       "\n",
       "   Wind Speed Country        Date  \n",
       "0        4.58      US  1608222349  \n",
       "1        5.10      US  1608222350  \n",
       "2        0.50      IT  1608222351  \n",
       "3        4.00      RU  1608222352  \n",
       "4        2.53      ML  1608222354  "
      ]
     },
     "execution_count": 14,
     "metadata": {},
     "output_type": "execute_result"
    }
   ],
   "source": [
    "#create dictionary of data requested above and convert to dataframe\n",
    "weather_dict = {\n",
    "    \"City\": city_name,\n",
    "    \"Lat\": lat,\n",
    "    \"Lng\": lng,\n",
    "    \"Max Temp\": max_temp,\n",
    "    \"Humidity\": humid,\n",
    "    \"Cloudiness\": cloud,\n",
    "    \"Wind Speed\": wind,\n",
    "    \"Country\": country,\n",
    "    \"Date\": date\n",
    "}\n",
    "city_data = pd.DataFrame(weather_dict)\n",
    "city_data.head()"
   ]
  },
  {
   "cell_type": "markdown",
   "metadata": {},
   "source": [
    "### Convert Raw Data to DataFrame\n",
    "* Export the city data into a .csv.\n",
    "* Display the DataFrame"
   ]
  },
  {
   "cell_type": "code",
   "execution_count": 15,
   "metadata": {},
   "outputs": [
    {
     "data": {
      "text/html": [
       "<div>\n",
       "<style scoped>\n",
       "    .dataframe tbody tr th:only-of-type {\n",
       "        vertical-align: middle;\n",
       "    }\n",
       "\n",
       "    .dataframe tbody tr th {\n",
       "        vertical-align: top;\n",
       "    }\n",
       "\n",
       "    .dataframe thead th {\n",
       "        text-align: right;\n",
       "    }\n",
       "</style>\n",
       "<table border=\"1\" class=\"dataframe\">\n",
       "  <thead>\n",
       "    <tr style=\"text-align: right;\">\n",
       "      <th></th>\n",
       "      <th>City</th>\n",
       "      <th>Lat</th>\n",
       "      <th>Lng</th>\n",
       "      <th>Max Temp</th>\n",
       "      <th>Humidity</th>\n",
       "      <th>Cloudiness</th>\n",
       "      <th>Wind Speed</th>\n",
       "      <th>Country</th>\n",
       "      <th>Date</th>\n",
       "    </tr>\n",
       "  </thead>\n",
       "  <tbody>\n",
       "    <tr>\n",
       "      <th>0</th>\n",
       "      <td>Kapaa</td>\n",
       "      <td>22.08</td>\n",
       "      <td>-159.32</td>\n",
       "      <td>19.44</td>\n",
       "      <td>59</td>\n",
       "      <td>6</td>\n",
       "      <td>4.58</td>\n",
       "      <td>US</td>\n",
       "      <td>1608222349</td>\n",
       "    </tr>\n",
       "    <tr>\n",
       "      <th>1</th>\n",
       "      <td>Kenai</td>\n",
       "      <td>60.55</td>\n",
       "      <td>-151.26</td>\n",
       "      <td>-5.56</td>\n",
       "      <td>85</td>\n",
       "      <td>1</td>\n",
       "      <td>5.10</td>\n",
       "      <td>US</td>\n",
       "      <td>1608222350</td>\n",
       "    </tr>\n",
       "    <tr>\n",
       "      <th>2</th>\n",
       "      <td>Province of Mantua</td>\n",
       "      <td>45.17</td>\n",
       "      <td>10.78</td>\n",
       "      <td>8.33</td>\n",
       "      <td>87</td>\n",
       "      <td>75</td>\n",
       "      <td>0.50</td>\n",
       "      <td>IT</td>\n",
       "      <td>1608222351</td>\n",
       "    </tr>\n",
       "    <tr>\n",
       "      <th>3</th>\n",
       "      <td>Petropavlovsk-Kamchatskiy</td>\n",
       "      <td>53.05</td>\n",
       "      <td>158.65</td>\n",
       "      <td>-11.00</td>\n",
       "      <td>78</td>\n",
       "      <td>90</td>\n",
       "      <td>4.00</td>\n",
       "      <td>RU</td>\n",
       "      <td>1608222352</td>\n",
       "    </tr>\n",
       "    <tr>\n",
       "      <th>4</th>\n",
       "      <td>Araouane</td>\n",
       "      <td>18.90</td>\n",
       "      <td>-3.53</td>\n",
       "      <td>30.46</td>\n",
       "      <td>13</td>\n",
       "      <td>65</td>\n",
       "      <td>2.53</td>\n",
       "      <td>ML</td>\n",
       "      <td>1608222354</td>\n",
       "    </tr>\n",
       "  </tbody>\n",
       "</table>\n",
       "</div>"
      ],
      "text/plain": [
       "                        City    Lat     Lng  Max Temp  Humidity  Cloudiness  \\\n",
       "0                      Kapaa  22.08 -159.32     19.44        59           6   \n",
       "1                      Kenai  60.55 -151.26     -5.56        85           1   \n",
       "2         Province of Mantua  45.17   10.78      8.33        87          75   \n",
       "3  Petropavlovsk-Kamchatskiy  53.05  158.65    -11.00        78          90   \n",
       "4                   Araouane  18.90   -3.53     30.46        13          65   \n",
       "\n",
       "   Wind Speed Country        Date  \n",
       "0        4.58      US  1608222349  \n",
       "1        5.10      US  1608222350  \n",
       "2        0.50      IT  1608222351  \n",
       "3        4.00      RU  1608222352  \n",
       "4        2.53      ML  1608222354  "
      ]
     },
     "execution_count": 15,
     "metadata": {},
     "output_type": "execute_result"
    }
   ],
   "source": [
    "cities_final = city_data.to_csv(\"../output_data/cities_final.csv\")\n",
    "city_data.head()"
   ]
  },
  {
   "cell_type": "code",
   "execution_count": 16,
   "metadata": {},
   "outputs": [
    {
     "data": {
      "text/html": [
       "<div>\n",
       "<style scoped>\n",
       "    .dataframe tbody tr th:only-of-type {\n",
       "        vertical-align: middle;\n",
       "    }\n",
       "\n",
       "    .dataframe tbody tr th {\n",
       "        vertical-align: top;\n",
       "    }\n",
       "\n",
       "    .dataframe thead th {\n",
       "        text-align: right;\n",
       "    }\n",
       "</style>\n",
       "<table border=\"1\" class=\"dataframe\">\n",
       "  <thead>\n",
       "    <tr style=\"text-align: right;\">\n",
       "      <th></th>\n",
       "      <th>Lat</th>\n",
       "      <th>Lng</th>\n",
       "      <th>Max Temp</th>\n",
       "      <th>Humidity</th>\n",
       "      <th>Cloudiness</th>\n",
       "      <th>Wind Speed</th>\n",
       "      <th>Date</th>\n",
       "    </tr>\n",
       "  </thead>\n",
       "  <tbody>\n",
       "    <tr>\n",
       "      <th>count</th>\n",
       "      <td>616.000000</td>\n",
       "      <td>616.000000</td>\n",
       "      <td>616.000000</td>\n",
       "      <td>616.000000</td>\n",
       "      <td>616.000000</td>\n",
       "      <td>616.000000</td>\n",
       "      <td>6.160000e+02</td>\n",
       "    </tr>\n",
       "    <tr>\n",
       "      <th>mean</th>\n",
       "      <td>19.951071</td>\n",
       "      <td>17.475162</td>\n",
       "      <td>10.676591</td>\n",
       "      <td>74.032468</td>\n",
       "      <td>56.090909</td>\n",
       "      <td>3.750114</td>\n",
       "      <td>1.608223e+09</td>\n",
       "    </tr>\n",
       "    <tr>\n",
       "      <th>std</th>\n",
       "      <td>32.892620</td>\n",
       "      <td>91.094015</td>\n",
       "      <td>17.270791</td>\n",
       "      <td>19.328203</td>\n",
       "      <td>38.193749</td>\n",
       "      <td>2.669421</td>\n",
       "      <td>2.912296e+02</td>\n",
       "    </tr>\n",
       "    <tr>\n",
       "      <th>min</th>\n",
       "      <td>-54.800000</td>\n",
       "      <td>-179.170000</td>\n",
       "      <td>-46.000000</td>\n",
       "      <td>11.000000</td>\n",
       "      <td>0.000000</td>\n",
       "      <td>0.070000</td>\n",
       "      <td>1.608222e+09</td>\n",
       "    </tr>\n",
       "    <tr>\n",
       "      <th>25%</th>\n",
       "      <td>-7.525000</td>\n",
       "      <td>-65.040000</td>\n",
       "      <td>-1.670000</td>\n",
       "      <td>66.000000</td>\n",
       "      <td>20.000000</td>\n",
       "      <td>1.790000</td>\n",
       "      <td>1.608223e+09</td>\n",
       "    </tr>\n",
       "    <tr>\n",
       "      <th>50%</th>\n",
       "      <td>25.115000</td>\n",
       "      <td>22.995000</td>\n",
       "      <td>15.560000</td>\n",
       "      <td>78.000000</td>\n",
       "      <td>75.000000</td>\n",
       "      <td>3.085000</td>\n",
       "      <td>1.608223e+09</td>\n",
       "    </tr>\n",
       "    <tr>\n",
       "      <th>75%</th>\n",
       "      <td>47.745000</td>\n",
       "      <td>100.040000</td>\n",
       "      <td>25.220000</td>\n",
       "      <td>88.000000</td>\n",
       "      <td>90.250000</td>\n",
       "      <td>5.100000</td>\n",
       "      <td>1.608223e+09</td>\n",
       "    </tr>\n",
       "    <tr>\n",
       "      <th>max</th>\n",
       "      <td>78.220000</td>\n",
       "      <td>179.320000</td>\n",
       "      <td>36.820000</td>\n",
       "      <td>100.000000</td>\n",
       "      <td>100.000000</td>\n",
       "      <td>17.500000</td>\n",
       "      <td>1.608223e+09</td>\n",
       "    </tr>\n",
       "  </tbody>\n",
       "</table>\n",
       "</div>"
      ],
      "text/plain": [
       "              Lat         Lng    Max Temp    Humidity  Cloudiness  Wind Speed  \\\n",
       "count  616.000000  616.000000  616.000000  616.000000  616.000000  616.000000   \n",
       "mean    19.951071   17.475162   10.676591   74.032468   56.090909    3.750114   \n",
       "std     32.892620   91.094015   17.270791   19.328203   38.193749    2.669421   \n",
       "min    -54.800000 -179.170000  -46.000000   11.000000    0.000000    0.070000   \n",
       "25%     -7.525000  -65.040000   -1.670000   66.000000   20.000000    1.790000   \n",
       "50%     25.115000   22.995000   15.560000   78.000000   75.000000    3.085000   \n",
       "75%     47.745000  100.040000   25.220000   88.000000   90.250000    5.100000   \n",
       "max     78.220000  179.320000   36.820000  100.000000  100.000000   17.500000   \n",
       "\n",
       "               Date  \n",
       "count  6.160000e+02  \n",
       "mean   1.608223e+09  \n",
       "std    2.912296e+02  \n",
       "min    1.608222e+09  \n",
       "25%    1.608223e+09  \n",
       "50%    1.608223e+09  \n",
       "75%    1.608223e+09  \n",
       "max    1.608223e+09  "
      ]
     },
     "execution_count": 16,
     "metadata": {},
     "output_type": "execute_result"
    }
   ],
   "source": [
    "#create a new DF removing non-numeric columns - city name and country\n",
    "reduced_city_data = city_data[[\"Lat\", \"Lng\", \"Max Temp\", \"Humidity\", \"Cloudiness\", \"Wind Speed\", \"Date\"]]\n",
    "#describe the new DF\n",
    "reduced_city_data.describe()"
   ]
  },
  {
   "cell_type": "markdown",
   "metadata": {},
   "source": [
    "## Inspect the data and remove the cities where the humidity > 100%.\n",
    "----\n",
    "Skip this step if there are no cities that have humidity > 100%. "
   ]
  },
  {
   "cell_type": "code",
   "execution_count": 17,
   "metadata": {},
   "outputs": [
    {
     "data": {
      "text/plain": [
       "0      False\n",
       "1      False\n",
       "2      False\n",
       "3      False\n",
       "4      False\n",
       "       ...  \n",
       "611    False\n",
       "612    False\n",
       "613    False\n",
       "614    False\n",
       "615    False\n",
       "Name: Humidity, Length: 616, dtype: bool"
      ]
     },
     "execution_count": 17,
     "metadata": {},
     "output_type": "execute_result"
    }
   ],
   "source": [
    "#check which cities have Humidity > 100%\n",
    "city_data[\"Humidity\"] > 100"
   ]
  },
  {
   "cell_type": "code",
   "execution_count": 18,
   "metadata": {},
   "outputs": [
    {
     "data": {
      "text/plain": [
       "Int64Index([], dtype='int64')"
      ]
     },
     "execution_count": 18,
     "metadata": {},
     "output_type": "execute_result"
    }
   ],
   "source": [
    "#  Get the indices of cities that have humidity over 100%.\n",
    "humid_cities = city_data[city_data[\"Humidity\"] > 100].index\n",
    "humid_cities \n",
    "#Does not seem to have cities with humidity greater than 100\n",
    "#However it does have cities with humidity equal to 100 which have been retained"
   ]
  },
  {
   "cell_type": "code",
   "execution_count": 19,
   "metadata": {},
   "outputs": [
    {
     "data": {
      "text/html": [
       "<div>\n",
       "<style scoped>\n",
       "    .dataframe tbody tr th:only-of-type {\n",
       "        vertical-align: middle;\n",
       "    }\n",
       "\n",
       "    .dataframe tbody tr th {\n",
       "        vertical-align: top;\n",
       "    }\n",
       "\n",
       "    .dataframe thead th {\n",
       "        text-align: right;\n",
       "    }\n",
       "</style>\n",
       "<table border=\"1\" class=\"dataframe\">\n",
       "  <thead>\n",
       "    <tr style=\"text-align: right;\">\n",
       "      <th></th>\n",
       "      <th>City</th>\n",
       "      <th>Lat</th>\n",
       "      <th>Lng</th>\n",
       "      <th>Max Temp</th>\n",
       "      <th>Humidity</th>\n",
       "      <th>Cloudiness</th>\n",
       "      <th>Wind Speed</th>\n",
       "      <th>Country</th>\n",
       "      <th>Date</th>\n",
       "    </tr>\n",
       "  </thead>\n",
       "  <tbody>\n",
       "    <tr>\n",
       "      <th>0</th>\n",
       "      <td>Kapaa</td>\n",
       "      <td>22.08</td>\n",
       "      <td>-159.32</td>\n",
       "      <td>19.44</td>\n",
       "      <td>59</td>\n",
       "      <td>6</td>\n",
       "      <td>4.58</td>\n",
       "      <td>US</td>\n",
       "      <td>1608222349</td>\n",
       "    </tr>\n",
       "    <tr>\n",
       "      <th>1</th>\n",
       "      <td>Kenai</td>\n",
       "      <td>60.55</td>\n",
       "      <td>-151.26</td>\n",
       "      <td>-5.56</td>\n",
       "      <td>85</td>\n",
       "      <td>1</td>\n",
       "      <td>5.10</td>\n",
       "      <td>US</td>\n",
       "      <td>1608222350</td>\n",
       "    </tr>\n",
       "    <tr>\n",
       "      <th>2</th>\n",
       "      <td>Province of Mantua</td>\n",
       "      <td>45.17</td>\n",
       "      <td>10.78</td>\n",
       "      <td>8.33</td>\n",
       "      <td>87</td>\n",
       "      <td>75</td>\n",
       "      <td>0.50</td>\n",
       "      <td>IT</td>\n",
       "      <td>1608222351</td>\n",
       "    </tr>\n",
       "    <tr>\n",
       "      <th>3</th>\n",
       "      <td>Petropavlovsk-Kamchatskiy</td>\n",
       "      <td>53.05</td>\n",
       "      <td>158.65</td>\n",
       "      <td>-11.00</td>\n",
       "      <td>78</td>\n",
       "      <td>90</td>\n",
       "      <td>4.00</td>\n",
       "      <td>RU</td>\n",
       "      <td>1608222352</td>\n",
       "    </tr>\n",
       "    <tr>\n",
       "      <th>4</th>\n",
       "      <td>Araouane</td>\n",
       "      <td>18.90</td>\n",
       "      <td>-3.53</td>\n",
       "      <td>30.46</td>\n",
       "      <td>13</td>\n",
       "      <td>65</td>\n",
       "      <td>2.53</td>\n",
       "      <td>ML</td>\n",
       "      <td>1608222354</td>\n",
       "    </tr>\n",
       "  </tbody>\n",
       "</table>\n",
       "</div>"
      ],
      "text/plain": [
       "                        City    Lat     Lng  Max Temp  Humidity  Cloudiness  \\\n",
       "0                      Kapaa  22.08 -159.32     19.44        59           6   \n",
       "1                      Kenai  60.55 -151.26     -5.56        85           1   \n",
       "2         Province of Mantua  45.17   10.78      8.33        87          75   \n",
       "3  Petropavlovsk-Kamchatskiy  53.05  158.65    -11.00        78          90   \n",
       "4                   Araouane  18.90   -3.53     30.46        13          65   \n",
       "\n",
       "   Wind Speed Country        Date  \n",
       "0        4.58      US  1608222349  \n",
       "1        5.10      US  1608222350  \n",
       "2        0.50      IT  1608222351  \n",
       "3        4.00      RU  1608222352  \n",
       "4        2.53      ML  1608222354  "
      ]
     },
     "execution_count": 19,
     "metadata": {},
     "output_type": "execute_result"
    }
   ],
   "source": [
    "# Make a new DataFrame equal to the city data to drop all humidity outliers by index.\n",
    "# Passing \"inplace=False\" will make a copy of the city_data DataFrame, which we call \"clean_city_data\".\n",
    "clean_city_data = city_data.drop(humid_cities, inplace = False)\n",
    "clean_city_data.count()\n",
    "clean_city_data.head() #remains the same as the earlier df"
   ]
  },
  {
   "cell_type": "markdown",
   "metadata": {},
   "source": [
    "## Plotting the Data\n",
    "* Use proper labeling of the plots using plot titles (including date of analysis) and axes labels.\n",
    "* Save the plotted figures as .pngs."
   ]
  },
  {
   "cell_type": "markdown",
   "metadata": {},
   "source": [
    "## Latitude vs. Temperature Plot"
   ]
  },
  {
   "cell_type": "code",
   "execution_count": 20,
   "metadata": {},
   "outputs": [
    {
     "name": "stdout",
     "output_type": "stream",
     "text": [
      "12/17/2020\n"
     ]
    }
   ],
   "source": [
    "#Get today's date (referred from stack overflow)\n",
    "now = dt.datetime.today().strftime(\"%m/%d/%Y\")\n",
    "print(now)"
   ]
  },
  {
   "cell_type": "code",
   "execution_count": 21,
   "metadata": {},
   "outputs": [
    {
     "data": {
      "image/png": "[encoded data removed]",
      "text/plain": [
       "<Figure size 432x288 with 1 Axes>"
      ]
     },
     "metadata": {
      "needs_background": "light"
     },
     "output_type": "display_data"
    }
   ],
   "source": [
    "#scatter plot\n",
    "plt.figure()\n",
    "x_values = clean_city_data[\"Lat\"]\n",
    "y_values = clean_city_data[\"Max Temp\"]\n",
    "plt.scatter(x_values, y_values,edgecolor=\"black\")\n",
    "plt.title(f\"City Latitude vs. Max Temperature ({now})\")\n",
    "plt.xlabel('Latitude')\n",
    "plt.ylabel('Max Temperature (C)')\n",
    "plt.grid(True)\n",
    "plt.savefig('../Images/latitude_vs_temp.png')"
   ]
  },
  {
   "cell_type": "markdown",
   "metadata": {
    "scrolled": true
   },
   "source": [
    "**Observations**\n",
    "Latitude and temperature appear to show a negative correlation, i.e., as the distance from the equator (latitude = 0) increases, the maximum temperatures tend to start falling"
   ]
  },
  {
   "cell_type": "markdown",
   "metadata": {},
   "source": [
    "## Latitude vs. Humidity Plot"
   ]
  },
  {
   "cell_type": "code",
   "execution_count": 22,
   "metadata": {},
   "outputs": [
    {
     "data": {
      "image/png": "[encoded data removed]",
      "text/plain": [
       "<Figure size 432x288 with 1 Axes>"
      ]
     },
     "metadata": {
      "needs_background": "light"
     },
     "output_type": "display_data"
    }
   ],
   "source": [
    "plt.figure()\n",
    "x_values = clean_city_data[\"Lat\"]\n",
    "y_values = clean_city_data[\"Humidity\"]\n",
    "plt.scatter(x_values, y_values,edgecolor=\"black\")\n",
    "plt.title(f\"City Latitude vs. Humidity ({now})\")\n",
    "plt.xlabel('Latitude')\n",
    "plt.ylabel('Humidity (%)')\n",
    "plt.grid(True)\n",
    "plt.savefig('../Images/latitude_vs_humidity.png')"
   ]
  },
  {
   "cell_type": "markdown",
   "metadata": {},
   "source": [
    "**Observations**:\n",
    "Humidity and Latitude do not appear to have any correlation, as indicated by the scatter plot data, which is largely dispersed"
   ]
  },
  {
   "cell_type": "markdown",
   "metadata": {},
   "source": [
    "## Latitude vs. Cloudiness Plot"
   ]
  },
  {
   "cell_type": "code",
   "execution_count": 24,
   "metadata": {},
   "outputs": [
    {
     "data": {
      "image/png": "[encoded data removed]",
      "text/plain": [
       "<Figure size 432x288 with 1 Axes>"
      ]
     },
     "metadata": {
      "needs_background": "light"
     },
     "output_type": "display_data"
    }
   ],
   "source": [
    "plt.figure()\n",
    "x_values = clean_city_data[\"Lat\"]\n",
    "y_values = clean_city_data[\"Cloudiness\"]\n",
    "plt.scatter(x_values, y_values,edgecolor=\"black\")\n",
    "plt.title(f\"City Latitude vs. Cloudiness ({now})\")\n",
    "plt.xlabel('Latitude')\n",
    "plt.ylabel('Cloudiness (%)')\n",
    "plt.grid(True)\n",
    "plt.savefig('../Images/latitude_vs_cloud.png')"
   ]
  },
  {
   "cell_type": "markdown",
   "metadata": {},
   "source": [
    "**Observations:**\n",
    "Cloudiness and Latitude do not seem to have any correlation "
   ]
  },
  {
   "cell_type": "markdown",
   "metadata": {},
   "source": [
    "## Latitude vs. Wind Speed Plot"
   ]
  },
  {
   "cell_type": "code",
   "execution_count": 26,
   "metadata": {},
   "outputs": [
    {
     "data": {
      "image/png": "[encoded data removed]",
      "text/plain": [
       "<Figure size 432x288 with 1 Axes>"
      ]
     },
     "metadata": {
      "needs_background": "light"
     },
     "output_type": "display_data"
    },
    {
     "data": {
      "text/plain": [
       "<Figure size 432x288 with 0 Axes>"
      ]
     },
     "metadata": {},
     "output_type": "display_data"
    }
   ],
   "source": [
    "plt.figure()\n",
    "x_values = clean_city_data[\"Lat\"]\n",
    "y_values = clean_city_data[\"Wind Speed\"]\n",
    "plt.scatter(x_values, y_values,edgecolor=\"black\")\n",
    "plt.title(f\"City Latitude vs. Wind Speed ({now})\")\n",
    "plt.xlabel('Latitude')\n",
    "plt.ylabel('Wind Speed (mph)')\n",
    "plt.grid(True)\n",
    "plt.show()\n",
    "plt.savefig('../Images/latitude_vs_wind.png')"
   ]
  },
  {
   "cell_type": "markdown",
   "metadata": {},
   "source": [
    "**Observations:** \n",
    "* Wind speed appears to be negatively correlated with latitude - as latitude increases, i.e. as we move further away from the equator, wind speed seems to decrease and is largely clustered between 0-5 mph\n",
    "* However, a few outliers are also observed in the data above"
   ]
  },
  {
   "cell_type": "markdown",
   "metadata": {},
   "source": [
    "## Linear Regression"
   ]
  },
  {
   "cell_type": "code",
   "execution_count": 30,
   "metadata": {},
   "outputs": [],
   "source": [
    "#separate the plots into Northern Hemisphere (greater than or equal to 0 degrees latitude) \n",
    "#Southern Hemisphere (less than 0 degrees latitude)\n",
    "northern = clean_city_data.loc[clean_city_data[\"Lat\"] >= 0]\n",
    "southern = clean_city_data.loc[clean_city_data[\"Lat\"] < 0]\n",
    "#northern has 422 rows\n",
    "#southern has 194 rows"
   ]
  },
  {
   "cell_type": "markdown",
   "metadata": {},
   "source": [
    "####  Northern Hemisphere - Max Temp vs. Latitude Linear Regression"
   ]
  },
  {
   "cell_type": "code",
   "execution_count": 31,
   "metadata": {},
   "outputs": [
    {
     "name": "stdout",
     "output_type": "stream",
     "text": [
      "The r-value is: 0.7184291461199096\n"
     ]
    },
    {
     "data": {
      "image/png": "[encoded data removed]",
      "text/plain": [
       "<Figure size 432x288 with 1 Axes>"
      ]
     },
     "metadata": {
      "needs_background": "light"
     },
     "output_type": "display_data"
    }
   ],
   "source": [
    "plt.figure()\n",
    "x_north = northern[\"Lat\"]\n",
    "y_north = northern[\"Max Temp\"]\n",
    "\n",
    "# Linear regression on max temp vs. lat\n",
    "(slope, intercept, rvalue, pvalue, stderr) = linregress(x_north, y_north)\n",
    "\n",
    "# Get regression values\n",
    "regress_values = x_north * slope + intercept\n",
    "# Create line equation string\n",
    "line_eq = \"y = \" + str(round(slope,2)) + \"x +\" + str(round(intercept,2))\n",
    "\n",
    "#scatter plot\n",
    "plt.scatter(x_north, y_north)\n",
    "plt.plot(x_north,regress_values,\"r-\")\n",
    "\n",
    "# Label plot and annotate the line equation\n",
    "plt.xlabel('Latitude')\n",
    "plt.ylabel('Max Temp')\n",
    "plt.annotate(line_eq,(10,-30),fontsize=12,color=\"red\")\n",
    "\n",
    "# Print r value\n",
    "print(f\"The r-value is: {rvalue**2}\")\n",
    "\n",
    "#Save figure\n",
    "plt.savefig('../Images/latitude_vs_temp_north_regression.png')"
   ]
  },
  {
   "cell_type": "markdown",
   "metadata": {},
   "source": [
    "**Observations:**\n",
    "* Temperature and latitude in the northern hemisphere show a negative correlation - as latitude increases, temp drops\n",
    "* This matches with our earlier hypothesis that temperatures are hotter closer to the equator (latitude = 0)\n",
    "* R-squared of 0.7, indicates little variability in data, i.e. most of the data fits with our hypothesis"
   ]
  },
  {
   "cell_type": "markdown",
   "metadata": {},
   "source": [
    "####  Southern Hemisphere - Max Temp vs. Latitude Linear Regression"
   ]
  },
  {
   "cell_type": "code",
   "execution_count": 34,
   "metadata": {},
   "outputs": [
    {
     "name": "stdout",
     "output_type": "stream",
     "text": [
      "The r-value is: 0.3353934080979989\n"
     ]
    },
    {
     "data": {
      "image/png": "[encoded data removed]",
      "text/plain": [
       "<Figure size 432x288 with 1 Axes>"
      ]
     },
     "metadata": {
      "needs_background": "light"
     },
     "output_type": "display_data"
    }
   ],
   "source": [
    "plt.figure()\n",
    "x_south = southern[\"Lat\"]\n",
    "y_south = southern[\"Max Temp\"]\n",
    "\n",
    "# Linear regression on max temp vs. lat\n",
    "(slope, intercept, rvalue, pvalue, stderr) = linregress(x_south, y_south)\n",
    "\n",
    "# Get regression values\n",
    "regress_values = x_south * slope + intercept\n",
    "# Create line equation string\n",
    "line_eq = \"y = \" + str(round(slope,2)) + \"x +\" + str(round(intercept,2))\n",
    "\n",
    "#scatter plot\n",
    "plt.scatter(x_south, y_south)\n",
    "plt.plot(x_south,regress_values,\"r-\")\n",
    "\n",
    "# Label plot and annotate the line equation\n",
    "plt.xlabel('Latitude')\n",
    "plt.ylabel('Max Temp')\n",
    "plt.annotate(line_eq,(-55,30),fontsize=12,color=\"red\")\n",
    "\n",
    "# Print r value\n",
    "print(f\"The r-value is: {rvalue**2}\")\n",
    "\n",
    "# Save figure\n",
    "plt.savefig('../Images/latitude_vs_temp_south_regression.png')"
   ]
  },
  {
   "cell_type": "markdown",
   "metadata": {},
   "source": [
    "**Observations:**\n",
    "* Data for southern hemisphere appears to be more scattered as compared to northern hemisphere. This is also indicated by a lower R-sqared value of 0.33, which shows greater variability of data\n",
    "* However, the broad trend shows a positive correlation, i.e. higher temperatures closer to the equator and vice-versa "
   ]
  },
  {
   "cell_type": "markdown",
   "metadata": {},
   "source": [
    "####  Northern Hemisphere - Humidity (%) vs. Latitude Linear Regression"
   ]
  },
  {
   "cell_type": "code",
   "execution_count": 36,
   "metadata": {},
   "outputs": [
    {
     "name": "stdout",
     "output_type": "stream",
     "text": [
      "The r-value is: 0.14458899005495027\n"
     ]
    },
    {
     "data": {
      "image/png": "[encoded data removed]",
      "text/plain": [
       "<Figure size 432x288 with 1 Axes>"
      ]
     },
     "metadata": {
      "needs_background": "light"
     },
     "output_type": "display_data"
    }
   ],
   "source": [
    "plt.figure()\n",
    "x_north = northern[\"Lat\"]\n",
    "y_north = northern[\"Humidity\"]\n",
    "\n",
    "# Linear regression on humidity vs. lat\n",
    "(slope, intercept, rvalue, pvalue, stderr) = linregress(x_north, y_north)\n",
    "\n",
    "# Get regression values\n",
    "regress_values = x_north * slope + intercept\n",
    "# Create line equation string\n",
    "line_eq = \"y = \" + str(round(slope,2)) + \"x +\" + str(round(intercept,2))\n",
    "\n",
    "#scatter plot\n",
    "plt.scatter(x_north, y_north)\n",
    "plt.plot(x_north,regress_values,\"r-\")\n",
    "\n",
    "# Label plot and annotate the line equation\n",
    "plt.xlabel('Latitude')\n",
    "plt.ylabel('Humidity')\n",
    "plt.annotate(line_eq,(50,20),fontsize=12,color=\"red\")\n",
    "\n",
    "# Print r value\n",
    "print(f\"The r-value is: {rvalue**2}\")\n",
    "\n",
    "# Save figure\n",
    "plt.savefig('../Images/latitude_vs_humidity_north_regression.png')"
   ]
  },
  {
   "cell_type": "markdown",
   "metadata": {},
   "source": [
    "**Observations:** \n",
    "* While the trend line shows a slight positive correlation between humidity and latitude, the scatter plot shows highly dispersed data. A R-squared of 0.14 indicates high variability of data \n",
    "* However, a dense cluster of observations can be seen as the latitude increases, i.e. greater humidity between 30-70 degrees of latitude. This could be due to greater landmass in the northern hemisphere as compared to the southern hemisphere"
   ]
  },
  {
   "cell_type": "markdown",
   "metadata": {},
   "source": [
    "####  Southern Hemisphere - Humidity (%) vs. Latitude Linear Regression"
   ]
  },
  {
   "cell_type": "code",
   "execution_count": 38,
   "metadata": {},
   "outputs": [
    {
     "name": "stdout",
     "output_type": "stream",
     "text": [
      "The r-value is: 0.03365503004302994\n"
     ]
    },
    {
     "data": {
      "image/png": "[encoded data removed]",
      "text/plain": [
       "<Figure size 432x288 with 1 Axes>"
      ]
     },
     "metadata": {
      "needs_background": "light"
     },
     "output_type": "display_data"
    }
   ],
   "source": [
    "plt.figure()\n",
    "x_south = southern[\"Lat\"]\n",
    "y_south = southern[\"Humidity\"]\n",
    "\n",
    "# Linear regression on Humidity vs. lat\n",
    "(slope, intercept, rvalue, pvalue, stderr) = linregress(x_south, y_south)\n",
    "\n",
    "# Get regression values\n",
    "regress_values = x_south * slope + intercept\n",
    "# Create line equation string\n",
    "line_eq = \"y = \" + str(round(slope,2)) + \"x +\" + str(round(intercept,2))\n",
    "\n",
    "#scatter plot\n",
    "plt.scatter(x_south, y_south)\n",
    "plt.plot(x_south,regress_values,\"r-\")\n",
    "\n",
    "# Label plot and annotate the line equation\n",
    "plt.xlabel('Latitude')\n",
    "plt.ylabel('Humidity')\n",
    "plt.annotate(line_eq,(-55,25),fontsize=12,color=\"red\")\n",
    "\n",
    "# Print r value\n",
    "print(f\"The r-value is: {rvalue**2}\")\n",
    "\n",
    "# Save figure\n",
    "plt.savefig('../Images/latitude_vs_humidity_south_regression.png')"
   ]
  },
  {
   "cell_type": "markdown",
   "metadata": {},
   "source": [
    "**Observations:** \n",
    "* In the southern hemisphere, the regression line appears to be almost flat, with a low R-squared value and highly dispersed data, indicating no significant correlation between humidity and latitude\n",
    "* However, similar data in the northern hemisphere showed a slight positive correlation, which could be owing to greater landmass in the northern hemisphere as opposed to the southern hemisphere"
   ]
  },
  {
   "cell_type": "markdown",
   "metadata": {},
   "source": [
    "####  Northern Hemisphere - Cloudiness (%) vs. Latitude Linear Regression"
   ]
  },
  {
   "cell_type": "code",
   "execution_count": 40,
   "metadata": {},
   "outputs": [
    {
     "name": "stdout",
     "output_type": "stream",
     "text": [
      "The r-value is: 0.02400158407159126\n"
     ]
    },
    {
     "data": {
      "image/png": "[encoded data removed]",
      "text/plain": [
       "<Figure size 432x288 with 1 Axes>"
      ]
     },
     "metadata": {
      "needs_background": "light"
     },
     "output_type": "display_data"
    }
   ],
   "source": [
    "plt.figure()\n",
    "x_north = northern[\"Lat\"]\n",
    "y_north = northern[\"Cloudiness\"]\n",
    "\n",
    "# Linear regression on Cloudiness vs. lat\n",
    "(slope, intercept, rvalue, pvalue, stderr) = linregress(x_north, y_north)\n",
    "\n",
    "# Get regression values\n",
    "regress_values = x_north * slope + intercept\n",
    "# Create line equation string\n",
    "line_eq = \"y = \" + str(round(slope,2)) + \"x +\" + str(round(intercept,2))\n",
    "\n",
    "#scatter plot\n",
    "plt.scatter(x_north, y_north)\n",
    "plt.plot(x_north,regress_values,\"r-\")\n",
    "\n",
    "# Label plot and annotate the line equation\n",
    "plt.xlabel('Latitude')\n",
    "plt.ylabel('Cloudiness')\n",
    "plt.annotate(line_eq,(53,10),fontsize=12,color=\"red\")\n",
    "\n",
    "# Print r value\n",
    "print(f\"The r-value is: {rvalue**2}\")\n",
    "\n",
    "# Save figure\n",
    "plt.savefig('../Images/lat_vs_cloudiness_north_regression.png')"
   ]
  },
  {
   "cell_type": "markdown",
   "metadata": {},
   "source": [
    "**Observations:**\n",
    "There seems to be no correlation between cloudiness and latitude in the northern hemisphere, with R-squared close to zero at 0.02"
   ]
  },
  {
   "cell_type": "markdown",
   "metadata": {},
   "source": [
    "####  Southern Hemisphere - Cloudiness (%) vs. Latitude Linear Regression"
   ]
  },
  {
   "cell_type": "code",
   "execution_count": 41,
   "metadata": {},
   "outputs": [
    {
     "name": "stdout",
     "output_type": "stream",
     "text": [
      "The r-value is: 0.07392717708728393\n"
     ]
    },
    {
     "data": {
      "image/png": "[encoded data removed]",
      "text/plain": [
       "<Figure size 432x288 with 1 Axes>"
      ]
     },
     "metadata": {
      "needs_background": "light"
     },
     "output_type": "display_data"
    }
   ],
   "source": [
    "plt.figure()\n",
    "x_south = southern[\"Lat\"]\n",
    "y_south = southern[\"Cloudiness\"]\n",
    "\n",
    "# Linear regression on Cloudiness vs. lat\n",
    "(slope, intercept, rvalue, pvalue, stderr) = linregress(x_south, y_south)\n",
    "\n",
    "# Get regression values\n",
    "regress_values = x_south * slope + intercept\n",
    "# Create line equation string\n",
    "line_eq = \"y = \" + str(round(slope,2)) + \"x +\" + str(round(intercept,2))\n",
    "\n",
    "#scatter plot\n",
    "plt.scatter(x_south, y_south)\n",
    "plt.plot(x_south,regress_values,\"r-\")\n",
    "\n",
    "# Label plot and annotate the line equation\n",
    "plt.xlabel('Latitude')\n",
    "plt.ylabel('Cloudiness')\n",
    "plt.annotate(line_eq,(-25,25),fontsize=12,color=\"red\")\n",
    "\n",
    "# Print r value\n",
    "print(f\"The r-value is: {rvalue**2}\")\n",
    "\n",
    "# Save figure\n",
    "plt.savefig('../Images/lat_vs_cloud_south_regression.png')"
   ]
  },
  {
   "cell_type": "markdown",
   "metadata": {},
   "source": [
    "**Observations:** \n",
    "* There is high dispersion/variability of the data, as indicated in the scatter plot\n",
    "* However, the upward slope of the regression line indicates that despite the variability, cloudiness may increase as we move closer to the equator in the southern hemisphere\n",
    "* Since published studies have not established any relationship between cloudiness and latitudinal position, this could be an anomaly"
   ]
  },
  {
   "cell_type": "markdown",
   "metadata": {},
   "source": [
    "####  Northern Hemisphere - Wind Speed (mph) vs. Latitude Linear Regression"
   ]
  },
  {
   "cell_type": "code",
   "execution_count": 43,
   "metadata": {},
   "outputs": [
    {
     "name": "stdout",
     "output_type": "stream",
     "text": [
      "The r-value is: 0.0387653643764344\n"
     ]
    },
    {
     "data": {
      "image/png": "[encoded data removed]",
      "text/plain": [
       "<Figure size 432x288 with 1 Axes>"
      ]
     },
     "metadata": {
      "needs_background": "light"
     },
     "output_type": "display_data"
    }
   ],
   "source": [
    "plt.figure()\n",
    "x_north = northern[\"Lat\"]\n",
    "y_north = northern[\"Wind Speed\"]\n",
    "\n",
    "# Linear regression on Wind Speed vs. lat\n",
    "(slope, intercept, rvalue, pvalue, stderr) = linregress(x_north, y_north)\n",
    "\n",
    "# Get regression values\n",
    "regress_values = x_north * slope + intercept\n",
    "# Create line equation string\n",
    "line_eq = \"y = \" + str(round(slope,2)) + \"x +\" + str(round(intercept,2))\n",
    "\n",
    "#scatter plot\n",
    "plt.scatter(x_north, y_north)\n",
    "plt.plot(x_north,regress_values,\"r-\")\n",
    "\n",
    "# Label plot and annotate the line equation\n",
    "plt.xlabel('Latitude')\n",
    "plt.ylabel('Wind Speed')\n",
    "plt.annotate(line_eq,(45,12),fontsize=12,color=\"red\")\n",
    "\n",
    "# Print r value\n",
    "print(f\"The r-value is: {rvalue**2}\")\n",
    "\n",
    "# Show plot\n",
    "plt.savefig('../Images/lat_vs_wind_north_regression.png')"
   ]
  },
  {
   "cell_type": "markdown",
   "metadata": {},
   "source": [
    "**Observations:** \n",
    "* In the northern hemisphere, data shows a slight positive correlation between distance from the equator and wind speed. However, a low R-squared indicates high variability of data to be able to draw meaningful conclusions"
   ]
  },
  {
   "cell_type": "markdown",
   "metadata": {},
   "source": [
    "####  Southern Hemisphere - Wind Speed (mph) vs. Latitude Linear Regression"
   ]
  },
  {
   "cell_type": "code",
   "execution_count": 45,
   "metadata": {},
   "outputs": [
    {
     "name": "stdout",
     "output_type": "stream",
     "text": [
      "The r-value is: 0.08107793218961278\n"
     ]
    },
    {
     "data": {
      "image/png": "[encoded data removed]",
      "text/plain": [
       "<Figure size 432x288 with 1 Axes>"
      ]
     },
     "metadata": {
      "needs_background": "light"
     },
     "output_type": "display_data"
    },
    {
     "data": {
      "text/plain": [
       "<Figure size 432x288 with 0 Axes>"
      ]
     },
     "metadata": {},
     "output_type": "display_data"
    }
   ],
   "source": [
    "plt.figure()\n",
    "x_south = southern[\"Lat\"]\n",
    "y_south = southern[\"Wind Speed\"]\n",
    "\n",
    "# Linear regression on Wind Speed vs. lat\n",
    "(slope, intercept, rvalue, pvalue, stderr) = linregress(x_south, y_south)\n",
    "\n",
    "# Get regression values\n",
    "regress_values = x_south * slope + intercept\n",
    "# Create line equation string\n",
    "line_eq = \"y = \" + str(round(slope,2)) + \"x +\" + str(round(intercept,2))\n",
    "\n",
    "#scatter plot\n",
    "plt.scatter(x_south, y_south)\n",
    "plt.plot(x_south,regress_values,\"r-\")\n",
    "\n",
    "# Label plot and annotate the line equation\n",
    "plt.xlabel('Latitude')\n",
    "plt.ylabel('Wind Speed')\n",
    "plt.annotate(line_eq,(-25,10),fontsize=12,color=\"red\")\n",
    "\n",
    "# Print r value\n",
    "print(f\"The r-value is: {rvalue**2}\")\n",
    "\n",
    "# Show plot\n",
    "plt.show()\n",
    "\n",
    "#Save figure\n",
    "plt.savefig('../Images/latitude_vs_wind_south_regression.png')"
   ]
  },
  {
   "cell_type": "markdown",
   "metadata": {},
   "source": [
    "**Observations:** \n",
    "* Correlation between wind speed and latitude show a similar trend in the southern hemisphere as in the north\n",
    "* While the trend line shows a negative relationship, the conclusion remains the same - wind speed lowers as we move closer to the equator"
   ]
  },
  {
   "cell_type": "code",
   "execution_count": null,
   "metadata": {},
   "outputs": [],
   "source": []
  }
 ],
 "metadata": {
  "anaconda-cloud": {},
  "kernel_info": {
   "name": "python3"
  },
  "kernelspec": {
   "display_name": "Python (PythonData)",
   "language": "python",
   "name": "myenv"
  },
  "language_info": {
   "codemirror_mode": {
    "name": "ipython",
    "version": 3
   },
   "file_extension": ".py",
   "mimetype": "text/x-python",
   "name": "python",
   "nbconvert_exporter": "python",
   "pygments_lexer": "ipython3",
   "version": "3.8.3"
  },
  "latex_envs": {
   "LaTeX_envs_menu_present": true,
   "autoclose": false,
   "autocomplete": true,
   "bibliofile": "biblio.bib",
   "cite_by": "apalike",
   "current_citInitial": 1,
   "eqLabelWithNumbers": true,
   "eqNumInitial": 1,
   "hotkeys": {
    "equation": "Ctrl-E",
    "itemize": "Ctrl-I"
   },
   "labels_anchors": false,
   "latex_user_defs": false,
   "report_style_numbering": false,
   "user_envs_cfg": false
  },
  "nteract": {
   "version": "0.12.3"
  }
 },
 "nbformat": 4,
 "nbformat_minor": 2
}
